{
  "nbformat": 4,
  "nbformat_minor": 0,
  "metadata": {
    "colab": {
      "name": "Untitled0.ipynb",
      "provenance": [],
      "authorship_tag": "ABX9TyPCh45UEy8GzzLfceyb7yus",
      "include_colab_link": true
    },
    "kernelspec": {
      "name": "python3",
      "display_name": "Python 3"
    },
    "language_info": {
      "name": "python"
    }
  },
  "cells": [
    {
      "cell_type": "markdown",
      "metadata": {
        "id": "view-in-github",
        "colab_type": "text"
      },
      "source": [
        "<a href=\"https://colab.research.google.com/github/Rikcy123/AI/blob/master/Program1.ipynb\" target=\"_parent\"><img src=\"https://colab.research.google.com/assets/colab-badge.svg\" alt=\"Open In Colab\"/></a>"
      ]
    },
    {
      "cell_type": "code",
      "metadata": {
        "id": "ctid9LCN7C8v"
      },
      "source": [
        "# Python3 Program for Bad Character Heuristic\n",
        "# of Boyer Moore String Matching Algorithm\n",
        "\n",
        "NO_OF_CHARS = 256\n",
        "\n",
        "def badCharHeuristic(string, size):\n",
        "\t'''\n",
        "\tThe preprocessing function for\n",
        "\tBoyer Moore's bad character heuristic\n",
        "\t'''\n",
        "\n",
        "\t# Initialize all occurrence as -1\n",
        "\tbadChar = [-1]*NO_OF_CHARS\n",
        "\n",
        "\t# Fill the actual value of last occurrence\n",
        "\tfor i in range(size):\n",
        "\t\tbadChar[ord(string[i])] = i;\n",
        "\n",
        "\t# return initialized list\n",
        "\treturn badChar\n",
        "\n",
        "def search(txt, pat):\n",
        "\t'''\n",
        "\tA pattern searching function that uses Bad Character\n",
        "\tHeuristic of Boyer Moore Algorithm\n",
        "\t'''\n",
        "\tm = len(pat)\n",
        "\tn = len(txt)\n",
        "\n",
        "\t# create the bad character list by calling\n",
        "\t# the preprocessing function badCharHeuristic()\n",
        "\t# for given pattern\n",
        "\tbadChar = badCharHeuristic(pat, m)\n",
        "\n",
        "\t# s is shift of the pattern with respect to text\n",
        "\ts = 0\n",
        "\twhile(s <= n-m):\n",
        "\t\tj = m-1\n",
        "\n",
        "\t\t# Keep reducing index j of pattern while\n",
        "\t\t# characters of pattern and text are matching\n",
        "\t\t# at this shift s\n",
        "\t\twhile j>=0 and pat[j] == txt[s+j]:\n",
        "\t\t\tj -= 1\n",
        "\n",
        "\t\t# If the pattern is present at current shift,\n",
        "\t\t# then index j will become -1 after the above loop\n",
        "\t\tif j<0:\n",
        "\t\t\tprint(\"Pattern occur at shift = {}\".format(s))\n",
        "\n",
        "\t\t\t'''\t\n",
        "\t\t\t\tShift the pattern so that the next character in text\n",
        "\t\t\t\t\taligns with the last occurrence of it in pattern.\n",
        "\t\t\t\tThe condition s+m < n is necessary for the case when\n",
        "\t\t\t\tpattern occurs at the end of text\n",
        "\t\t\t'''\n",
        "\t\t\ts += (m-badChar[ord(txt[s+m])] if s+m<n else 1)\n",
        "\t\telse:\n",
        "\t\t\t'''\n",
        "\t\t\tShift the pattern so that the bad character in text\n",
        "\t\t\taligns with the last occurrence of it in pattern. The\n",
        "\t\t\tmax function is used to make sure that we get a positive\n",
        "\t\t\tshift. We may get a negative shift if the last occurrence\n",
        "\t\t\tof bad character in pattern is on the right side of the\n",
        "\t\t\tcurrent character.\n",
        "\t\t\t'''\n",
        "\t\t\ts += max(1, j-badChar[ord(txt[s+j])])\n",
        "\n",
        "\n",
        "# Driver program to test above function\n",
        "def main():\n",
        "\ttxt = \"ABAAABCD\"\n",
        "\tpat = \"ABC\"\n",
        "\tsearch(txt, pat)\n",
        "\n",
        "if __name__ == '__main__':\n",
        "\tmain()\n",
        "\n",
        "# This code is contributed by Atul Kumar\n",
        "# (www.facebook.com/atul.kr.007)\n"
      ],
      "execution_count": null,
      "outputs": []
    }
  ]
}